{
 "cells": [
  {
   "cell_type": "code",
   "execution_count": 45,
   "id": "f8d854e9",
   "metadata": {},
   "outputs": [],
   "source": [
    "# Import libraries\n",
    "import pandas as pd\n",
    "import matplotlib.pyplot as plt\n",
    "import seaborn as sns"
   ]
  },
  {
   "cell_type": "code",
   "execution_count": 46,
   "id": "1ff6b1b3",
   "metadata": {},
   "outputs": [
    {
     "name": "stdout",
     "output_type": "stream",
     "text": [
      "         asm  n_macro  n_conditional  n_update   approach  exec_time  \\\n",
      "0  Ascensore        1              6         7  evoavalla      78856   \n",
      "1  Ascensore        1              6         7     random         29   \n",
      "2  Ascensore        1              6         7       atgt        816   \n",
      "3     ATM3v2       10             21        17  evoavalla      84221   \n",
      "4     ATM3v2       10             21        17     random         95   \n",
      "\n",
      "   n_scenarios  n_step  n_set  n_check  macro_coverage  branch_coverage  \\\n",
      "0            2       6      3       16             1.0         0.833333   \n",
      "1            2       6      4       11             1.0         0.583333   \n",
      "2            7      11     11       17             1.0         0.833333   \n",
      "3            0       0      0        0             0.0         0.000000   \n",
      "4            5      25     24       79             0.6         0.285714   \n",
      "\n",
      "   update_rule_coverage  n_failing_scenarios  run  \n",
      "0              1.000000                    0    1  \n",
      "1              0.714286                    0    1  \n",
      "2              1.000000                    0    1  \n",
      "3              0.000000                    0    1  \n",
      "4              0.176471                    0    1  \n"
     ]
    }
   ],
   "source": [
    "# Define a general dataframe to hold all data\n",
    "all_data = pd.DataFrame()\n",
    "\n",
    "for i in range(1, 10):\n",
    "    # Create a directory for each run\n",
    "    data_file_path = f'run{i}/data.csv'\n",
    "\n",
    "    # Read the CSV file into a pandas dataframe\n",
    "    df = pd.read_csv(data_file_path)\n",
    "\n",
    "    # Add a new column 'run' with the value of i\n",
    "    df['run'] = i\n",
    "\n",
    "    # Append the dataframe to the all_data dataframe\n",
    "    all_data = pd.concat([all_data, df], ignore_index=True)\n",
    "\n",
    "print (all_data.head())"
   ]
  },
  {
   "cell_type": "code",
   "execution_count": 47,
   "id": "dbfee472",
   "metadata": {},
   "outputs": [
    {
     "name": "stdout",
     "output_type": "stream",
     "text": [
      "Approach: evoavalla, Mean Execution Time: 80017.69, Std Dev: 11223.95\n",
      "Approach: random, Mean Execution Time: 46.30, Std Dev: 108.74\n",
      "Approach: atgt, Mean Execution Time: 1108.94, Std Dev: 954.19\n"
     ]
    },
    {
     "data": {
      "image/png": "[encoded data removed]",
      "text/plain": [
       "<Figure size 400x400 with 1 Axes>"
      ]
     },
     "metadata": {},
     "output_type": "display_data"
    }
   ],
   "source": [
    "# For each approach, calculate the mean and standard deviation of the 'exec_time' column    \n",
    "for approach in all_data['approach'].unique():\n",
    "    # Filter the dataframe for the current approach\n",
    "    approach_data = all_data[all_data['approach'] == approach]\n",
    "\n",
    "    # Calculate mean and standard deviation\n",
    "    mean_exec_time = approach_data['exec_time'].mean()\n",
    "    std_exec_time = approach_data['exec_time'].std()\n",
    "\n",
    "    # Print the results\n",
    "    print(f\"Approach: {approach}, Mean Execution Time: {mean_exec_time:.2f}, Std Dev: {std_exec_time:.2f}\")\n",
    "\n",
    "# Generate a boxplot for the execution times of each approach\n",
    "# Set the style of seaborn\n",
    "sns.set(style=\"whitegrid\")\n",
    "# Create a boxplot\n",
    "plt.figure(figsize=(4, 4))\n",
    "sns.boxplot(x='approach', y='exec_time', data=all_data)\n",
    "# set log scale for y-axis\n",
    "plt.yscale('log')\n",
    "plt.xlabel('Approach')\n",
    "plt.ylabel('Execution Time [s]')\n",
    "plt.xticks(rotation=45)\n",
    "plt.tight_layout()"
   ]
  },
  {
   "cell_type": "code",
   "execution_count": 48,
   "id": "624fb8f4",
   "metadata": {},
   "outputs": [
    {
     "name": "stdout",
     "output_type": "stream",
     "text": [
      "Approach: evoavalla, Mean Branch Coverage: 0.56, Std Dev: 0.31\n",
      "Approach: random, Mean Branch Coverage: 0.45, Std Dev: 0.26\n",
      "Approach: atgt, Mean Branch Coverage: 0.84, Std Dev: 0.33\n"
     ]
    }
   ],
   "source": [
    "# For each approach, calculate the mean and standard deviation of the 'branch_coverage' column\n",
    "for approach in all_data['approach'].unique():\n",
    "    # Filter the dataframe for the current approach\n",
    "    approach_data = all_data[all_data['approach'] == approach]\n",
    "\n",
    "    # Calculate mean and standard deviation\n",
    "    mean_branch_coverage = approach_data['branch_coverage'].mean()\n",
    "    std_branch_coverage = approach_data['branch_coverage'].std()\n",
    "\n",
    "    # Print the results\n",
    "    print(f\"Approach: {approach}, Mean Branch Coverage: {mean_branch_coverage:.2f}, Std Dev: {std_branch_coverage:.2f}\")"
   ]
  },
  {
   "cell_type": "code",
   "execution_count": 49,
   "id": "ca6133b9",
   "metadata": {},
   "outputs": [
    {
     "name": "stdout",
     "output_type": "stream",
     "text": [
      "Approach: evoavalla, Mean Macro Coverage: 0.80, Std Dev: 0.33\n",
      "Approach: random, Mean Macro Coverage: 0.65, Std Dev: 0.39\n",
      "Approach: atgt, Mean Macro Coverage: 0.88, Std Dev: 0.33\n"
     ]
    }
   ],
   "source": [
    "# For each approach, calculate the mean and standard deviation of the 'macro_coverage' column\n",
    "for approach in all_data['approach'].unique():\n",
    "    # Filter the dataframe for the current approach\n",
    "    approach_data = all_data[all_data['approach'] == approach]\n",
    "\n",
    "    # Calculate mean and standard deviation\n",
    "    mean_macro_coverage = approach_data['macro_coverage'].mean()\n",
    "    std_macro_coverage = approach_data['macro_coverage'].std()\n",
    "\n",
    "    # Print the results\n",
    "    print(f\"Approach: {approach}, Mean Macro Coverage: {mean_macro_coverage:.2f}, Std Dev: {std_macro_coverage:.2f}\")"
   ]
  },
  {
   "cell_type": "code",
   "execution_count": 50,
   "id": "6615dba3",
   "metadata": {},
   "outputs": [
    {
     "name": "stdout",
     "output_type": "stream",
     "text": [
      "Approach: evoavalla, Mean Update Rule Coverage: 0.57, Std Dev: 0.37\n",
      "Approach: random, Mean Update Rule Coverage: 0.36, Std Dev: 0.31\n",
      "Approach: atgt, Mean Update Rule Coverage: 0.86, Std Dev: 0.33\n"
     ]
    }
   ],
   "source": [
    "# For each approach, calculate the mean and standard deviation of the 'update_rule_coverage' column\n",
    "for approach in all_data['approach'].unique():\n",
    "    # Filter the dataframe for the current approach\n",
    "    approach_data = all_data[all_data['approach'] == approach]\n",
    "\n",
    "    # Calculate mean and standard deviation\n",
    "    mean_update_rule_coverage = approach_data['update_rule_coverage'].mean()\n",
    "    std_update_rule_coverage = approach_data['update_rule_coverage'].std()\n",
    "\n",
    "    # Print the results\n",
    "    print(f\"Approach: {approach}, Mean Update Rule Coverage: {mean_update_rule_coverage:.2f}, Std Dev: {std_update_rule_coverage:.2f}\")"
   ]
  },
  {
   "cell_type": "code",
   "execution_count": 51,
   "id": "f97d781c",
   "metadata": {},
   "outputs": [
    {
     "name": "stdout",
     "output_type": "stream",
     "text": [
      "Approach: evoavalla, Mean Number of Scenarios: 3.73, Std Dev: 5.59\n",
      "Approach: random, Mean Number of Scenarios: 4.13, Std Dev: 4.84\n",
      "Approach: atgt, Mean Number of Scenarios: 11.38, Std Dev: 10.45\n"
     ]
    }
   ],
   "source": [
    "# For each approach, calculate the mean and standard deviation of the 'n_scenarios' column\n",
    "for approach in all_data['approach'].unique():\n",
    "    # Filter the dataframe for the current approach\n",
    "    approach_data = all_data[all_data['approach'] == approach]\n",
    "\n",
    "    # Calculate mean and standard deviation\n",
    "    mean_n_scenarios = approach_data['n_scenarios'].mean()\n",
    "    std_n_scenarios = approach_data['n_scenarios'].std()\n",
    "\n",
    "    # Print the results\n",
    "    print(f\"Approach: {approach}, Mean Number of Scenarios: {mean_n_scenarios:.2f}, Std Dev: {std_n_scenarios:.2f}\")"
   ]
  },
  {
   "cell_type": "code",
   "execution_count": 52,
   "id": "aea0e354",
   "metadata": {},
   "outputs": [
    {
     "name": "stdout",
     "output_type": "stream",
     "text": [
      "Approach: evoavalla, Mean Number of Steps: 9.04, Std Dev: 13.83\n",
      "Approach: random, Mean Number of Steps: 14.52, Std Dev: 14.24\n",
      "Approach: atgt, Mean Number of Steps: 168.75, Std Dev: 318.89\n"
     ]
    }
   ],
   "source": [
    "# For each approach, calculate the mean and standard deviation of the 'n_step' column\n",
    "for approach in all_data['approach'].unique():\n",
    "    # Filter the dataframe for the current approach\n",
    "    approach_data = all_data[all_data['approach'] == approach]\n",
    "\n",
    "    # Calculate mean and standard deviation\n",
    "    mean_n_step = approach_data['n_step'].mean()\n",
    "    std_n_step = approach_data['n_step'].std()\n",
    "\n",
    "    # Print the results\n",
    "    print(f\"Approach: {approach}, Mean Number of Steps: {mean_n_step:.2f}, Std Dev: {std_n_step:.2f}\")"
   ]
  }
 ],
 "metadata": {
  "kernelspec": {
   "display_name": "base",
   "language": "python",
   "name": "python3"
  },
  "language_info": {
   "codemirror_mode": {
    "name": "ipython",
    "version": 3
   },
   "file_extension": ".py",
   "mimetype": "text/x-python",
   "name": "python",
   "nbconvert_exporter": "python",
   "pygments_lexer": "ipython3",
   "version": "3.11.3"
  }
 },
 "nbformat": 4,
 "nbformat_minor": 5
}
